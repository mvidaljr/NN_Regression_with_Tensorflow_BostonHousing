{
 "cells": [
  {
   "cell_type": "code",
   "execution_count": 1,
   "metadata": {
    "id": "VSwA7y52Lhsx"
   },
   "outputs": [],
   "source": [
    "import tensorflow as tf\n",
    "import pandas as pd\n",
    "import matplotlib.pyplot as plt\n",
    "import seaborn as sns\n"
   ]
  },
  {
   "cell_type": "code",
   "execution_count": 2,
   "metadata": {
    "colab": {
     "base_uri": "https://localhost:8080/"
    },
    "id": "WKmcA_tpL05G",
    "outputId": "bb32d355-616d-4996-c95e-2a149c457c46"
   },
   "outputs": [],
   "source": [
    "boston_housing = tf.keras.datasets.boston_housing.load_data(\n",
    "    path='boston_housing.npz', test_split=0.2, seed=113\n",
    ")"
   ]
  },
  {
   "cell_type": "code",
   "execution_count": 3,
   "metadata": {
    "id": "X2QMfL85L02n"
   },
   "outputs": [],
   "source": [
    "X_train = boston_housing[0][0]#\n",
    "y_train = boston_housing[0][1]\n",
    "\n",
    "X_test = boston_housing[1][0]\n",
    "y_test = boston_housing[1][1]"
   ]
  },
  {
   "cell_type": "code",
   "execution_count": 4,
   "metadata": {
    "colab": {
     "base_uri": "https://localhost:8080/"
    },
    "id": "2sxnqi9jL0zm",
    "outputId": "be213bc1-5bb3-4dfe-bfc5-8ad39f843dd0"
   },
   "outputs": [
    {
     "data": {
      "text/plain": [
       "array([[1.23247e+00, 0.00000e+00, 8.14000e+00, ..., 2.10000e+01,\n",
       "        3.96900e+02, 1.87200e+01],\n",
       "       [2.17700e-02, 8.25000e+01, 2.03000e+00, ..., 1.47000e+01,\n",
       "        3.95380e+02, 3.11000e+00],\n",
       "       [4.89822e+00, 0.00000e+00, 1.81000e+01, ..., 2.02000e+01,\n",
       "        3.75520e+02, 3.26000e+00],\n",
       "       ...,\n",
       "       [3.46600e-02, 3.50000e+01, 6.06000e+00, ..., 1.69000e+01,\n",
       "        3.62250e+02, 7.83000e+00],\n",
       "       [2.14918e+00, 0.00000e+00, 1.95800e+01, ..., 1.47000e+01,\n",
       "        2.61950e+02, 1.57900e+01],\n",
       "       [1.43900e-02, 6.00000e+01, 2.93000e+00, ..., 1.56000e+01,\n",
       "        3.76700e+02, 4.38000e+00]])"
      ]
     },
     "execution_count": 4,
     "metadata": {},
     "output_type": "execute_result"
    }
   ],
   "source": [
    "X_train"
   ]
  },
  {
   "cell_type": "code",
   "execution_count": 5,
   "metadata": {
    "colab": {
     "base_uri": "https://localhost:8080/"
    },
    "id": "rmyJ1IuBL0wn",
    "outputId": "8cde8d9c-01ea-49cb-ab8b-f0d44b61509e"
   },
   "outputs": [
    {
     "data": {
      "text/plain": [
       "((404, 13), (404,))"
      ]
     },
     "execution_count": 5,
     "metadata": {},
     "output_type": "execute_result"
    }
   ],
   "source": [
    "X_train.shape, y_train.shape"
   ]
  },
  {
   "cell_type": "code",
   "execution_count": 6,
   "metadata": {
    "colab": {
     "base_uri": "https://localhost:8080/"
    },
    "id": "qovcVJzqL0t3",
    "outputId": "7d7aba57-b16b-4cb1-9057-990c1b8b01ce"
   },
   "outputs": [
    {
     "data": {
      "text/plain": [
       "((102, 13), (102,))"
      ]
     },
     "execution_count": 6,
     "metadata": {},
     "output_type": "execute_result"
    }
   ],
   "source": [
    "X_test.shape, y_test.shape"
   ]
  },
  {
   "cell_type": "code",
   "execution_count": 7,
   "metadata": {
    "id": "2CuRWozgL9cu"
   },
   "outputs": [],
   "source": [
    "from sklearn.preprocessing import MinMaxScaler\n",
    "\n",
    "scaler = MinMaxScaler()\n",
    "\n",
    "scaler.fit(X_train)\n",
    "\n",
    "X_train_scaler = scaler.transform(X_train)\n",
    "X_test_scaler = scaler.transform(X_test)"
   ]
  },
  {
   "cell_type": "code",
   "execution_count": 8,
   "metadata": {
    "colab": {
     "base_uri": "https://localhost:8080/"
    },
    "id": "hUyPkD0rL9Z2",
    "outputId": "235bf37f-140b-4d26-81e3-0ae4e6c33bd7"
   },
   "outputs": [
    {
     "data": {
      "text/plain": [
       "(array([  1.23247,   0.     ,   8.14   ,   0.     ,   0.538  ,   6.142  ,\n",
       "         91.7    ,   3.9769 ,   4.     , 307.     ,  21.     , 396.9    ,\n",
       "         18.72   ]),\n",
       " array([ 18.0846,   0.    ,  18.1   ,   0.    ,   0.679 ,   6.434 ,\n",
       "        100.    ,   1.8347,  24.    , 666.    ,  20.2   ,  27.25  ,\n",
       "         29.05  ]))"
      ]
     },
     "execution_count": 8,
     "metadata": {},
     "output_type": "execute_result"
    }
   ],
   "source": [
    "X_train[0], X_test[0]"
   ]
  },
  {
   "cell_type": "code",
   "execution_count": 9,
   "metadata": {
    "colab": {
     "base_uri": "https://localhost:8080/"
    },
    "id": "x4nx0XzmL9Wt",
    "outputId": "949441ca-89cb-49f1-9708-163b9a4b14b9"
   },
   "outputs": [
    {
     "data": {
      "text/plain": [
       "(array([0.01378163, 0.        , 0.28152493, 0.        , 0.31481481,\n",
       "        0.49980635, 0.91452111, 0.29719123, 0.13043478, 0.22753346,\n",
       "        0.89361702, 1.        , 0.46881898]),\n",
       " array([0.20319551, 0.        , 0.64662757, 0.        , 0.60493827,\n",
       "        0.55635167, 1.        , 0.07359588, 1.        , 0.91395793,\n",
       "        0.80851064, 0.06790559, 0.75386313]))"
      ]
     },
     "execution_count": 9,
     "metadata": {},
     "output_type": "execute_result"
    }
   ],
   "source": [
    "X_train_scaler[0], X_test_scaler[0]"
   ]
  },
  {
   "cell_type": "code",
   "execution_count": 10,
   "metadata": {
    "colab": {
     "base_uri": "https://localhost:8080/"
    },
    "id": "SshAPHbNL9T9",
    "outputId": "2bdd7cbd-c390-42e1-9211-3ebc57a77233"
   },
   "outputs": [
    {
     "name": "stdout",
     "output_type": "stream",
     "text": [
      "Epoch 1/5\n",
      "13/13 [==============================] - 3s 5ms/step - loss: 21.1718 - mae: 21.1718\n",
      "Epoch 2/5\n",
      "13/13 [==============================] - 0s 2ms/step - loss: 20.6913 - mae: 20.6913\n",
      "Epoch 3/5\n",
      "13/13 [==============================] - 0s 2ms/step - loss: 20.2102 - mae: 20.2102\n",
      "Epoch 4/5\n",
      "13/13 [==============================] - 0s 2ms/step - loss: 19.7294 - mae: 19.7294\n",
      "Epoch 5/5\n",
      "13/13 [==============================] - 0s 2ms/step - loss: 19.2482 - mae: 19.2482\n"
     ]
    }
   ],
   "source": [
    "tf.random.set_seed(42)\n",
    "\n",
    "boston_model_1 = tf.keras.Sequential([\n",
    "    tf.keras.layers.Dense(1)\n",
    "])\n",
    "\n",
    "boston_model_1.compile(loss= tf.keras.losses.mae,\n",
    "                       optimizer= tf.keras.optimizers.SGD(),\n",
    "                       metrics= ['mae'])\n",
    "\n",
    "history1 = boston_model_1.fit(X_train_scaler, y_train, epochs=5)"
   ]
  },
  {
   "cell_type": "code",
   "execution_count": 11,
   "metadata": {
    "colab": {
     "base_uri": "https://localhost:8080/",
     "height": 296
    },
    "id": "LBUMet1LMEMP",
    "outputId": "8124f121-8628-45f6-b5cc-f36da3708b5e"
   },
   "outputs": [
    {
     "data": {
      "text/plain": [
       "Text(0.5, 0, 'Epochs')"
      ]
     },
     "execution_count": 11,
     "metadata": {},
     "output_type": "execute_result"
    },
    {
     "data": {
      "image/png": "[encoded data removed]",
      "text/plain": [
       "<Figure size 432x288 with 1 Axes>"
      ]
     },
     "metadata": {
      "needs_background": "light"
     },
     "output_type": "display_data"
    }
   ],
   "source": [
    "pd.DataFrame(history1.history).plot()\n",
    "plt.ylabel('Loss')\n",
    "plt.xlabel('Epochs')"
   ]
  },
  {
   "cell_type": "code",
   "execution_count": 12,
   "metadata": {
    "colab": {
     "base_uri": "https://localhost:8080/"
    },
    "id": "-UYzdHExMEK-",
    "outputId": "42206a5f-81c7-4532-d8bd-71fb702da7e4"
   },
   "outputs": [
    {
     "name": "stdout",
     "output_type": "stream",
     "text": [
      "4/4 [==============================] - 0s 2ms/step - loss: 19.6435 - mae: 19.6435\n"
     ]
    },
    {
     "data": {
      "text/plain": [
       "[19.643537521362305, 19.643537521362305]"
      ]
     },
     "execution_count": 12,
     "metadata": {},
     "output_type": "execute_result"
    }
   ],
   "source": [
    "boston_model_1.evaluate(X_test_scaler, y_test)"
   ]
  },
  {
   "cell_type": "code",
   "execution_count": 13,
   "metadata": {
    "colab": {
     "base_uri": "https://localhost:8080/"
    },
    "id": "aCJkye5DMEIN",
    "outputId": "1d105b6f-1dc1-4d14-9344-60bb1db66563"
   },
   "outputs": [
    {
     "name": "stdout",
     "output_type": "stream",
     "text": [
      "4/4 [==============================] - 0s 3ms/step\n"
     ]
    }
   ],
   "source": [
    "y_preds_1 = boston_model_1.predict(X_test_scaler)"
   ]
  },
  {
   "cell_type": "code",
   "execution_count": 14,
   "metadata": {
    "colab": {
     "base_uri": "https://localhost:8080/"
    },
    "id": "ooy7n7gmMEFO",
    "outputId": "08c4f525-c4d0-4ffb-c27f-46691e2e686b"
   },
   "outputs": [
    {
     "data": {
      "text/plain": [
       "(array([ 7.2, 18.8, 19. , 27. , 22.2]),\n",
       " array([[3.9651952],\n",
       "        [3.7132106],\n",
       "        [2.8640244],\n",
       "        [3.5988545],\n",
       "        [2.812118 ]], dtype=float32))"
      ]
     },
     "execution_count": 14,
     "metadata": {},
     "output_type": "execute_result"
    }
   ],
   "source": [
    "y_test[:5], y_preds_1[:5]"
   ]
  },
  {
   "cell_type": "code",
   "execution_count": 15,
   "metadata": {
    "colab": {
     "base_uri": "https://localhost:8080/"
    },
    "id": "XqoNix06MECd",
    "outputId": "80e5db4f-bf8e-44af-c4f3-7c977a600ce3"
   },
   "outputs": [
    {
     "data": {
      "text/plain": [
       "(1, 2)"
      ]
     },
     "execution_count": 15,
     "metadata": {},
     "output_type": "execute_result"
    }
   ],
   "source": [
    "y_test.ndim, y_preds_1.ndim"
   ]
  },
  {
   "cell_type": "code",
   "execution_count": 16,
   "metadata": {
    "colab": {
     "base_uri": "https://localhost:8080/",
     "height": 282
    },
    "id": "pjGBkrGaMKZl",
    "outputId": "c2c4871a-da1f-43b7-9eac-ab1bf5c03349"
   },
   "outputs": [
    {
     "data": {
      "text/plain": [
       "<AxesSubplot:>"
      ]
     },
     "execution_count": 16,
     "metadata": {},
     "output_type": "execute_result"
    },
    {
     "data": {
      "image/png": "[encoded data removed]",
      "text/plain": [
       "<Figure size 432x288 with 1 Axes>"
      ]
     },
     "metadata": {
      "needs_background": "light"
     },
     "output_type": "display_data"
    }
   ],
   "source": [
    "pd.DataFrame(\n",
    "    {\"y_test\":y_test,\n",
    "     \"y_pred\":tf.squeeze(y_preds_1)}\n",
    ").plot()"
   ]
  },
  {
   "cell_type": "code",
   "execution_count": 17,
   "metadata": {
    "colab": {
     "base_uri": "https://localhost:8080/"
    },
    "id": "cf4wk08_MKWm",
    "outputId": "18c2d85e-a01d-42cb-89a8-1c3e8fc87102"
   },
   "outputs": [
    {
     "name": "stdout",
     "output_type": "stream",
     "text": [
      "Epoch 1/50\n",
      "13/13 [==============================] - 1s 3ms/step - loss: 22.8963 - mae: 22.8963\n",
      "Epoch 2/50\n",
      "13/13 [==============================] - 0s 2ms/step - loss: 21.7190 - mae: 21.7190\n",
      "Epoch 3/50\n",
      "13/13 [==============================] - 0s 2ms/step - loss: 20.4253 - mae: 20.4253\n",
      "Epoch 4/50\n",
      "13/13 [==============================] - 0s 2ms/step - loss: 18.7238 - mae: 18.7238\n",
      "Epoch 5/50\n",
      "13/13 [==============================] - 0s 2ms/step - loss: 16.2817 - mae: 16.2817\n",
      "Epoch 6/50\n",
      "13/13 [==============================] - 0s 2ms/step - loss: 13.1561 - mae: 13.1561\n",
      "Epoch 7/50\n",
      "13/13 [==============================] - 0s 2ms/step - loss: 10.3865 - mae: 10.3865\n",
      "Epoch 8/50\n",
      "13/13 [==============================] - 0s 2ms/step - loss: 8.7418 - mae: 8.7418\n",
      "Epoch 9/50\n",
      "13/13 [==============================] - 0s 2ms/step - loss: 7.9600 - mae: 7.9600\n",
      "Epoch 10/50\n",
      "13/13 [==============================] - 0s 2ms/step - loss: 7.6193 - mae: 7.6193\n",
      "Epoch 11/50\n",
      "13/13 [==============================] - 0s 2ms/step - loss: 7.3390 - mae: 7.3390\n",
      "Epoch 12/50\n",
      "13/13 [==============================] - 0s 2ms/step - loss: 7.1010 - mae: 7.1010\n",
      "Epoch 13/50\n",
      "13/13 [==============================] - 0s 3ms/step - loss: 6.8858 - mae: 6.8858\n",
      "Epoch 14/50\n",
      "13/13 [==============================] - 0s 2ms/step - loss: 6.6678 - mae: 6.6678\n",
      "Epoch 15/50\n",
      "13/13 [==============================] - 0s 2ms/step - loss: 6.4637 - mae: 6.4637\n",
      "Epoch 16/50\n",
      "13/13 [==============================] - 0s 2ms/step - loss: 6.2755 - mae: 6.2755\n",
      "Epoch 17/50\n",
      "13/13 [==============================] - 0s 2ms/step - loss: 6.0871 - mae: 6.0871\n",
      "Epoch 18/50\n",
      "13/13 [==============================] - 0s 2ms/step - loss: 5.9107 - mae: 5.9107\n",
      "Epoch 19/50\n",
      "13/13 [==============================] - 0s 2ms/step - loss: 5.7406 - mae: 5.7406\n",
      "Epoch 20/50\n",
      "13/13 [==============================] - 0s 2ms/step - loss: 5.5988 - mae: 5.5988\n",
      "Epoch 21/50\n",
      "13/13 [==============================] - 0s 2ms/step - loss: 5.4885 - mae: 5.4885\n",
      "Epoch 22/50\n",
      "13/13 [==============================] - 0s 2ms/step - loss: 5.3874 - mae: 5.3874\n",
      "Epoch 23/50\n",
      "13/13 [==============================] - 0s 3ms/step - loss: 5.3073 - mae: 5.3073\n",
      "Epoch 24/50\n",
      "13/13 [==============================] - 0s 2ms/step - loss: 5.2326 - mae: 5.2326\n",
      "Epoch 25/50\n",
      "13/13 [==============================] - 0s 2ms/step - loss: 5.1593 - mae: 5.1593\n",
      "Epoch 26/50\n",
      "13/13 [==============================] - 0s 2ms/step - loss: 5.1067 - mae: 5.1067\n",
      "Epoch 27/50\n",
      "13/13 [==============================] - 0s 2ms/step - loss: 5.0479 - mae: 5.0479\n",
      "Epoch 28/50\n",
      "13/13 [==============================] - 0s 2ms/step - loss: 5.0168 - mae: 5.0168\n",
      "Epoch 29/50\n",
      "13/13 [==============================] - 0s 3ms/step - loss: 4.9555 - mae: 4.9555\n",
      "Epoch 30/50\n",
      "13/13 [==============================] - 0s 2ms/step - loss: 4.9325 - mae: 4.9325\n",
      "Epoch 31/50\n",
      "13/13 [==============================] - 0s 2ms/step - loss: 4.8845 - mae: 4.8845\n",
      "Epoch 32/50\n",
      "13/13 [==============================] - 0s 2ms/step - loss: 4.8473 - mae: 4.8473\n",
      "Epoch 33/50\n",
      "13/13 [==============================] - 0s 2ms/step - loss: 4.8122 - mae: 4.8122\n",
      "Epoch 34/50\n",
      "13/13 [==============================] - 0s 2ms/step - loss: 4.7817 - mae: 4.7817\n",
      "Epoch 35/50\n",
      "13/13 [==============================] - 0s 2ms/step - loss: 4.7576 - mae: 4.7576\n",
      "Epoch 36/50\n",
      "13/13 [==============================] - 0s 2ms/step - loss: 4.7262 - mae: 4.7262\n",
      "Epoch 37/50\n",
      "13/13 [==============================] - 0s 3ms/step - loss: 4.7027 - mae: 4.7027\n",
      "Epoch 38/50\n",
      "13/13 [==============================] - 0s 2ms/step - loss: 4.6848 - mae: 4.6848\n",
      "Epoch 39/50\n",
      "13/13 [==============================] - 0s 2ms/step - loss: 4.6487 - mae: 4.6487\n",
      "Epoch 40/50\n",
      "13/13 [==============================] - 0s 2ms/step - loss: 4.6224 - mae: 4.6224\n",
      "Epoch 41/50\n",
      "13/13 [==============================] - 0s 2ms/step - loss: 4.6124 - mae: 4.6124\n",
      "Epoch 42/50\n",
      "13/13 [==============================] - 0s 2ms/step - loss: 4.5520 - mae: 4.5520\n",
      "Epoch 43/50\n",
      "13/13 [==============================] - 0s 3ms/step - loss: 4.5445 - mae: 4.5445\n",
      "Epoch 44/50\n",
      "13/13 [==============================] - 0s 3ms/step - loss: 4.5228 - mae: 4.5228\n",
      "Epoch 45/50\n",
      "13/13 [==============================] - 0s 2ms/step - loss: 4.4875 - mae: 4.4875\n",
      "Epoch 46/50\n",
      "13/13 [==============================] - 0s 2ms/step - loss: 4.4697 - mae: 4.4697\n",
      "Epoch 47/50\n",
      "13/13 [==============================] - 0s 3ms/step - loss: 4.4458 - mae: 4.4458\n",
      "Epoch 48/50\n",
      "13/13 [==============================] - 0s 2ms/step - loss: 4.4211 - mae: 4.4211\n",
      "Epoch 49/50\n",
      "13/13 [==============================] - 0s 3ms/step - loss: 4.4016 - mae: 4.4016\n",
      "Epoch 50/50\n",
      "13/13 [==============================] - 0s 2ms/step - loss: 4.3760 - mae: 4.3760\n"
     ]
    }
   ],
   "source": [
    "tf.random.set_seed(42)\n",
    "\n",
    "boston_model_2 = tf.keras.Sequential([\n",
    "    tf.keras.layers.Dense(10),\n",
    "    tf.keras.layers.Dense(1)\n",
    "])\n",
    "\n",
    "boston_model_2.compile(loss= tf.keras.losses.mae,\n",
    "                       optimizer= tf.keras.optimizers.SGD(),\n",
    "                       metrics=['mae'])\n",
    "\n",
    "history2=boston_model_2.fit(X_train_scaler, y_train, epochs=50)"
   ]
  },
  {
   "cell_type": "code",
   "execution_count": 18,
   "metadata": {
    "colab": {
     "base_uri": "https://localhost:8080/",
     "height": 296
    },
    "id": "Xnou1nrwMKTd",
    "outputId": "f6239180-bc7a-405a-faa2-d00f84cabe9b"
   },
   "outputs": [
    {
     "data": {
      "text/plain": [
       "Text(0.5, 0, 'Epochs')"
      ]
     },
     "execution_count": 18,
     "metadata": {},
     "output_type": "execute_result"
    },
    {
     "data": {
      "image/png": "[encoded data removed]",
      "text/plain": [
       "<Figure size 432x288 with 1 Axes>"
      ]
     },
     "metadata": {
      "needs_background": "light"
     },
     "output_type": "display_data"
    }
   ],
   "source": [
    "pd.DataFrame(history2.history).plot()\n",
    "plt.ylabel(\"Loss\")\n",
    "plt.xlabel(\"Epochs\")"
   ]
  },
  {
   "cell_type": "code",
   "execution_count": 19,
   "metadata": {
    "colab": {
     "base_uri": "https://localhost:8080/"
    },
    "id": "NAUGwF0IMKQ1",
    "outputId": "a762e1df-651c-462c-e448-fb107db1d892"
   },
   "outputs": [
    {
     "name": "stdout",
     "output_type": "stream",
     "text": [
      "13/13 [==============================] - 0s 2ms/step - loss: 4.3508 - mae: 4.3508\n"
     ]
    },
    {
     "data": {
      "text/plain": [
       "[4.350754737854004, 4.350754737854004]"
      ]
     },
     "execution_count": 19,
     "metadata": {},
     "output_type": "execute_result"
    }
   ],
   "source": [
    "boston_model_2.evaluate(X_train_scaler,y_train)"
   ]
  },
  {
   "cell_type": "code",
   "execution_count": 20,
   "metadata": {
    "colab": {
     "base_uri": "https://localhost:8080/"
    },
    "id": "o4Wls_5BMKN1",
    "outputId": "cb16e512-b0df-4599-8c60-b70a331669e9"
   },
   "outputs": [
    {
     "name": "stdout",
     "output_type": "stream",
     "text": [
      "4/4 [==============================] - 0s 2ms/step\n"
     ]
    }
   ],
   "source": [
    "y_preds_2= boston_model_2.predict(X_test_scaler)"
   ]
  },
  {
   "cell_type": "code",
   "execution_count": 21,
   "metadata": {
    "colab": {
     "base_uri": "https://localhost:8080/",
     "height": 282
    },
    "id": "CWL6o8KpMWcI",
    "outputId": "ec24aa44-5481-4bb1-c605-c865af9c6706"
   },
   "outputs": [
    {
     "data": {
      "text/plain": [
       "<AxesSubplot:>"
      ]
     },
     "execution_count": 21,
     "metadata": {},
     "output_type": "execute_result"
    },
    {
     "data": {
      "image/png": "[encoded data removed]",
      "text/plain": [
       "<Figure size 432x288 with 1 Axes>"
      ]
     },
     "metadata": {
      "needs_background": "light"
     },
     "output_type": "display_data"
    }
   ],
   "source": [
    "pd.DataFrame(\n",
    "    {\"y_test\":y_test,\n",
    "     \"y_pred\":tf.squeeze(y_preds_2)}\n",
    ").plot()"
   ]
  },
  {
   "cell_type": "code",
   "execution_count": 22,
   "metadata": {
    "colab": {
     "base_uri": "https://localhost:8080/"
    },
    "id": "A30go9_pMWZu",
    "outputId": "bb42e1e7-127f-4883-866e-a4ae90e2663a"
   },
   "outputs": [
    {
     "name": "stderr",
     "output_type": "stream",
     "text": [
      "WARNING:absl:`lr` is deprecated, please use `learning_rate` instead, or use the legacy optimizer, e.g.,tf.keras.optimizers.legacy.Adam.\n"
     ]
    },
    {
     "name": "stdout",
     "output_type": "stream",
     "text": [
      "Epoch 1/100\n",
      "13/13 [==============================] - 1s 4ms/step - loss: 22.3323 - mae: 22.3323\n",
      "Epoch 2/100\n",
      "13/13 [==============================] - 0s 3ms/step - loss: 21.7743 - mae: 21.7743\n",
      "Epoch 3/100\n",
      "13/13 [==============================] - 0s 3ms/step - loss: 20.7203 - mae: 20.7203\n",
      "Epoch 4/100\n",
      "13/13 [==============================] - 0s 3ms/step - loss: 18.6104 - mae: 18.6104\n",
      "Epoch 5/100\n",
      "13/13 [==============================] - 0s 3ms/step - loss: 14.5159 - mae: 14.5159\n",
      "Epoch 6/100\n",
      "13/13 [==============================] - 0s 2ms/step - loss: 9.9390 - mae: 9.9390\n",
      "Epoch 7/100\n",
      "13/13 [==============================] - 0s 3ms/step - loss: 8.3940 - mae: 8.3940\n",
      "Epoch 8/100\n",
      "13/13 [==============================] - 0s 2ms/step - loss: 7.7041 - mae: 7.7041\n",
      "Epoch 9/100\n",
      "13/13 [==============================] - 0s 3ms/step - loss: 6.9138 - mae: 6.9138\n",
      "Epoch 10/100\n",
      "13/13 [==============================] - 0s 2ms/step - loss: 6.2692 - mae: 6.2692\n",
      "Epoch 11/100\n",
      "13/13 [==============================] - 0s 2ms/step - loss: 5.7510 - mae: 5.7510\n",
      "Epoch 12/100\n",
      "13/13 [==============================] - 0s 3ms/step - loss: 5.3196 - mae: 5.3196\n",
      "Epoch 13/100\n",
      "13/13 [==============================] - 0s 3ms/step - loss: 5.1069 - mae: 5.1069\n",
      "Epoch 14/100\n",
      "13/13 [==============================] - 0s 3ms/step - loss: 4.9602 - mae: 4.9602\n",
      "Epoch 15/100\n",
      "13/13 [==============================] - 0s 2ms/step - loss: 4.8201 - mae: 4.8201\n",
      "Epoch 16/100\n",
      "13/13 [==============================] - 0s 2ms/step - loss: 4.7437 - mae: 4.7437\n",
      "Epoch 17/100\n",
      "13/13 [==============================] - 0s 2ms/step - loss: 4.6218 - mae: 4.6218\n",
      "Epoch 18/100\n",
      "13/13 [==============================] - 0s 2ms/step - loss: 4.5017 - mae: 4.5017\n",
      "Epoch 19/100\n",
      "13/13 [==============================] - 0s 3ms/step - loss: 4.3883 - mae: 4.3883\n",
      "Epoch 20/100\n",
      "13/13 [==============================] - 0s 2ms/step - loss: 4.2995 - mae: 4.2995\n",
      "Epoch 21/100\n",
      "13/13 [==============================] - 0s 2ms/step - loss: 4.1356 - mae: 4.1356\n",
      "Epoch 22/100\n",
      "13/13 [==============================] - 0s 2ms/step - loss: 4.0342 - mae: 4.0342\n",
      "Epoch 23/100\n",
      "13/13 [==============================] - 0s 2ms/step - loss: 3.9205 - mae: 3.9205\n",
      "Epoch 24/100\n",
      "13/13 [==============================] - 0s 2ms/step - loss: 3.7909 - mae: 3.7909\n",
      "Epoch 25/100\n",
      "13/13 [==============================] - 0s 2ms/step - loss: 3.6850 - mae: 3.6850\n",
      "Epoch 26/100\n",
      "13/13 [==============================] - 0s 2ms/step - loss: 3.6073 - mae: 3.6073\n",
      "Epoch 27/100\n",
      "13/13 [==============================] - 0s 2ms/step - loss: 3.4656 - mae: 3.4656\n",
      "Epoch 28/100\n",
      "13/13 [==============================] - 0s 2ms/step - loss: 3.3935 - mae: 3.3935\n",
      "Epoch 29/100\n",
      "13/13 [==============================] - 0s 2ms/step - loss: 3.3452 - mae: 3.3452\n",
      "Epoch 30/100\n",
      "13/13 [==============================] - 0s 3ms/step - loss: 3.2526 - mae: 3.2526\n",
      "Epoch 31/100\n",
      "13/13 [==============================] - 0s 2ms/step - loss: 3.2188 - mae: 3.2188\n",
      "Epoch 32/100\n",
      "13/13 [==============================] - 0s 3ms/step - loss: 3.1371 - mae: 3.1371\n",
      "Epoch 33/100\n",
      "13/13 [==============================] - 0s 2ms/step - loss: 3.0616 - mae: 3.0616\n",
      "Epoch 34/100\n",
      "13/13 [==============================] - 0s 3ms/step - loss: 3.0187 - mae: 3.0187\n",
      "Epoch 35/100\n",
      "13/13 [==============================] - 0s 2ms/step - loss: 2.9641 - mae: 2.9641\n",
      "Epoch 36/100\n",
      "13/13 [==============================] - 0s 2ms/step - loss: 2.9374 - mae: 2.9374\n",
      "Epoch 37/100\n",
      "13/13 [==============================] - 0s 2ms/step - loss: 2.9825 - mae: 2.9825\n",
      "Epoch 38/100\n",
      "13/13 [==============================] - 0s 2ms/step - loss: 2.8634 - mae: 2.8634\n",
      "Epoch 39/100\n",
      "13/13 [==============================] - 0s 2ms/step - loss: 2.8137 - mae: 2.8137\n",
      "Epoch 40/100\n",
      "13/13 [==============================] - 0s 3ms/step - loss: 2.8185 - mae: 2.8185\n",
      "Epoch 41/100\n",
      "13/13 [==============================] - 0s 2ms/step - loss: 2.7584 - mae: 2.7584\n",
      "Epoch 42/100\n",
      "13/13 [==============================] - 0s 2ms/step - loss: 2.7415 - mae: 2.7415\n",
      "Epoch 43/100\n",
      "13/13 [==============================] - 0s 2ms/step - loss: 2.7286 - mae: 2.7286\n",
      "Epoch 44/100\n",
      "13/13 [==============================] - 0s 3ms/step - loss: 2.7129 - mae: 2.7129\n",
      "Epoch 45/100\n",
      "13/13 [==============================] - 0s 2ms/step - loss: 2.6807 - mae: 2.6807\n",
      "Epoch 46/100\n",
      "13/13 [==============================] - 0s 2ms/step - loss: 2.6509 - mae: 2.6509\n",
      "Epoch 47/100\n",
      "13/13 [==============================] - 0s 2ms/step - loss: 2.6487 - mae: 2.6487\n",
      "Epoch 48/100\n",
      "13/13 [==============================] - 0s 2ms/step - loss: 2.6234 - mae: 2.6234\n",
      "Epoch 49/100\n",
      "13/13 [==============================] - 0s 2ms/step - loss: 2.6302 - mae: 2.6302\n",
      "Epoch 50/100\n",
      "13/13 [==============================] - 0s 2ms/step - loss: 2.5815 - mae: 2.5815\n",
      "Epoch 51/100\n",
      "13/13 [==============================] - 0s 3ms/step - loss: 2.5538 - mae: 2.5538\n",
      "Epoch 52/100\n",
      "13/13 [==============================] - 0s 2ms/step - loss: 2.5731 - mae: 2.5731\n",
      "Epoch 53/100\n",
      "13/13 [==============================] - 0s 2ms/step - loss: 2.5412 - mae: 2.5412\n",
      "Epoch 54/100\n",
      "13/13 [==============================] - 0s 2ms/step - loss: 2.5152 - mae: 2.5152\n",
      "Epoch 55/100\n",
      "13/13 [==============================] - 0s 2ms/step - loss: 2.5208 - mae: 2.5208\n",
      "Epoch 56/100\n",
      "13/13 [==============================] - 0s 2ms/step - loss: 2.4881 - mae: 2.4881\n",
      "Epoch 57/100\n",
      "13/13 [==============================] - 0s 2ms/step - loss: 2.4922 - mae: 2.4922\n",
      "Epoch 58/100\n",
      "13/13 [==============================] - 0s 2ms/step - loss: 2.4845 - mae: 2.4845\n",
      "Epoch 59/100\n",
      "13/13 [==============================] - 0s 2ms/step - loss: 2.4484 - mae: 2.4484\n",
      "Epoch 60/100\n",
      "13/13 [==============================] - 0s 2ms/step - loss: 2.4624 - mae: 2.4624\n",
      "Epoch 61/100\n",
      "13/13 [==============================] - 0s 2ms/step - loss: 2.4055 - mae: 2.4055\n",
      "Epoch 62/100\n",
      "13/13 [==============================] - 0s 2ms/step - loss: 2.4847 - mae: 2.4847\n",
      "Epoch 63/100\n",
      "13/13 [==============================] - 0s 2ms/step - loss: 2.3951 - mae: 2.3951\n",
      "Epoch 64/100\n",
      "13/13 [==============================] - 0s 2ms/step - loss: 2.3822 - mae: 2.3822\n",
      "Epoch 65/100\n",
      "13/13 [==============================] - 0s 2ms/step - loss: 2.3503 - mae: 2.3503\n",
      "Epoch 66/100\n",
      "13/13 [==============================] - 0s 2ms/step - loss: 2.3871 - mae: 2.3871\n",
      "Epoch 67/100\n",
      "13/13 [==============================] - 0s 2ms/step - loss: 2.3756 - mae: 2.3756\n",
      "Epoch 68/100\n",
      "13/13 [==============================] - 0s 2ms/step - loss: 2.3627 - mae: 2.3627\n",
      "Epoch 69/100\n",
      "13/13 [==============================] - 0s 3ms/step - loss: 2.3087 - mae: 2.3087\n",
      "Epoch 70/100\n",
      "13/13 [==============================] - 0s 2ms/step - loss: 2.4570 - mae: 2.4570\n",
      "Epoch 71/100\n",
      "13/13 [==============================] - 0s 2ms/step - loss: 2.3974 - mae: 2.3974\n",
      "Epoch 72/100\n",
      "13/13 [==============================] - 0s 2ms/step - loss: 2.2926 - mae: 2.2926\n",
      "Epoch 73/100\n",
      "13/13 [==============================] - 0s 2ms/step - loss: 2.2728 - mae: 2.2728\n",
      "Epoch 74/100\n",
      "13/13 [==============================] - 0s 2ms/step - loss: 2.2801 - mae: 2.2801\n",
      "Epoch 75/100\n",
      "13/13 [==============================] - 0s 2ms/step - loss: 2.3097 - mae: 2.3097\n",
      "Epoch 76/100\n",
      "13/13 [==============================] - 0s 2ms/step - loss: 2.2715 - mae: 2.2715\n",
      "Epoch 77/100\n",
      "13/13 [==============================] - 0s 2ms/step - loss: 2.3482 - mae: 2.3482\n",
      "Epoch 78/100\n",
      "13/13 [==============================] - 0s 2ms/step - loss: 2.2531 - mae: 2.2531\n",
      "Epoch 79/100\n",
      "13/13 [==============================] - 0s 2ms/step - loss: 2.2748 - mae: 2.2748\n",
      "Epoch 80/100\n",
      "13/13 [==============================] - 0s 2ms/step - loss: 2.2310 - mae: 2.2310\n",
      "Epoch 81/100\n",
      "13/13 [==============================] - 0s 2ms/step - loss: 2.1947 - mae: 2.1947\n",
      "Epoch 82/100\n",
      "13/13 [==============================] - 0s 2ms/step - loss: 2.1985 - mae: 2.1985\n",
      "Epoch 83/100\n",
      "13/13 [==============================] - 0s 2ms/step - loss: 2.2205 - mae: 2.2205\n",
      "Epoch 84/100\n",
      "13/13 [==============================] - 0s 2ms/step - loss: 2.2729 - mae: 2.2729\n",
      "Epoch 85/100\n",
      "13/13 [==============================] - 0s 2ms/step - loss: 2.1907 - mae: 2.1907\n",
      "Epoch 86/100\n",
      "13/13 [==============================] - 0s 2ms/step - loss: 2.1714 - mae: 2.1714\n",
      "Epoch 87/100\n"
     ]
    },
    {
     "name": "stdout",
     "output_type": "stream",
     "text": [
      "13/13 [==============================] - 0s 2ms/step - loss: 2.1739 - mae: 2.1739\n",
      "Epoch 88/100\n",
      "13/13 [==============================] - 0s 2ms/step - loss: 2.1842 - mae: 2.1842\n",
      "Epoch 89/100\n",
      "13/13 [==============================] - 0s 2ms/step - loss: 2.3241 - mae: 2.3241\n",
      "Epoch 90/100\n",
      "13/13 [==============================] - 0s 2ms/step - loss: 2.1923 - mae: 2.1923\n",
      "Epoch 91/100\n",
      "13/13 [==============================] - 0s 2ms/step - loss: 2.1367 - mae: 2.1367\n",
      "Epoch 92/100\n",
      "13/13 [==============================] - 0s 2ms/step - loss: 2.1283 - mae: 2.1283\n",
      "Epoch 93/100\n",
      "13/13 [==============================] - 0s 2ms/step - loss: 2.1663 - mae: 2.1663\n",
      "Epoch 94/100\n",
      "13/13 [==============================] - 0s 2ms/step - loss: 2.1221 - mae: 2.1221\n",
      "Epoch 95/100\n",
      "13/13 [==============================] - 0s 2ms/step - loss: 2.1287 - mae: 2.1287\n",
      "Epoch 96/100\n",
      "13/13 [==============================] - 0s 2ms/step - loss: 2.0815 - mae: 2.0815\n",
      "Epoch 97/100\n",
      "13/13 [==============================] - 0s 2ms/step - loss: 2.1000 - mae: 2.1000\n",
      "Epoch 98/100\n",
      "13/13 [==============================] - 0s 2ms/step - loss: 2.0687 - mae: 2.0687\n",
      "Epoch 99/100\n",
      "13/13 [==============================] - 0s 2ms/step - loss: 2.0668 - mae: 2.0668\n",
      "Epoch 100/100\n",
      "13/13 [==============================] - 0s 2ms/step - loss: 2.0953 - mae: 2.0953\n"
     ]
    }
   ],
   "source": [
    "tf.random.set_seed(42)\n",
    "\n",
    "boston_model_3 = tf.keras.Sequential([\n",
    "    tf.keras.layers.Dense(100,activation='relu'),\n",
    "    tf.keras.layers.Dense(50, activation='relu'),\n",
    "    tf.keras.layers.Dense(10, activation='relu'),\n",
    "    tf.keras.layers.Dense(1)\n",
    "])\n",
    "\n",
    "boston_model_3.compile(loss= tf.keras.losses.mae,\n",
    "                       optimizer= tf.keras.optimizers.Adam(lr=0.1),\n",
    "                       metrics= ['mae'])\n",
    "\n",
    "history3=boston_model_3.fit(X_train_scaler,y_train, epochs=100)"
   ]
  },
  {
   "cell_type": "code",
   "execution_count": 23,
   "metadata": {
    "colab": {
     "base_uri": "https://localhost:8080/",
     "height": 296
    },
    "id": "2Z_2Y0_lMWW2",
    "outputId": "1ab44633-b19d-47cc-f4b6-75a7ac7e0685"
   },
   "outputs": [
    {
     "data": {
      "text/plain": [
       "Text(0.5, 0, 'Epochs')"
      ]
     },
     "execution_count": 23,
     "metadata": {},
     "output_type": "execute_result"
    },
    {
     "data": {
      "image/png": "[encoded data removed]",
      "text/plain": [
       "<Figure size 432x288 with 1 Axes>"
      ]
     },
     "metadata": {
      "needs_background": "light"
     },
     "output_type": "display_data"
    }
   ],
   "source": [
    "pd.DataFrame(history3.history).plot()\n",
    "plt.ylabel(\"Loss\")\n",
    "plt.xlabel(\"Epochs\")"
   ]
  },
  {
   "cell_type": "code",
   "execution_count": 24,
   "metadata": {
    "colab": {
     "base_uri": "https://localhost:8080/"
    },
    "id": "orAfQgfXMWTo",
    "outputId": "b5b43881-40f2-41c6-ad4b-2644a928aedd"
   },
   "outputs": [
    {
     "name": "stdout",
     "output_type": "stream",
     "text": [
      "13/13 [==============================] - 0s 2ms/step - loss: 2.0445 - mae: 2.0445\n"
     ]
    },
    {
     "data": {
      "text/plain": [
       "[2.044529914855957, 2.044529914855957]"
      ]
     },
     "execution_count": 24,
     "metadata": {},
     "output_type": "execute_result"
    }
   ],
   "source": [
    "boston_model_3.evaluate(X_train_scaler, y_train)"
   ]
  },
  {
   "cell_type": "code",
   "execution_count": 25,
   "metadata": {
    "colab": {
     "base_uri": "https://localhost:8080/"
    },
    "id": "7cELQxS7Mc2k",
    "outputId": "58d52a9b-9032-48b9-a21c-56a340b8538c"
   },
   "outputs": [
    {
     "name": "stdout",
     "output_type": "stream",
     "text": [
      "4/4 [==============================] - 0s 2ms/step\n"
     ]
    }
   ],
   "source": [
    "y_preds_3 = boston_model_3.predict(X_test_scaler)"
   ]
  },
  {
   "cell_type": "code",
   "execution_count": 26,
   "metadata": {
    "colab": {
     "base_uri": "https://localhost:8080/",
     "height": 265
    },
    "id": "A-BXfPmjMePV",
    "outputId": "c4b0cf6b-461b-41d9-a6b1-94abcec5ae25"
   },
   "outputs": [
    {
     "data": {
      "image/png": "[encoded data removed]",
      "text/plain": [
       "<Figure size 432x288 with 1 Axes>"
      ]
     },
     "metadata": {
      "needs_background": "light"
     },
     "output_type": "display_data"
    }
   ],
   "source": [
    "pd.DataFrame(\n",
    "    {\"y_test\":y_test,\n",
    "     \"y_pred\":tf.squeeze(y_preds_3)}\n",
    ").plot();"
   ]
  },
  {
   "cell_type": "code",
   "execution_count": null,
   "metadata": {
    "id": "hrRCbvEQNETZ"
   },
   "outputs": [],
   "source": []
  }
 ],
 "metadata": {
  "colab": {
   "provenance": []
  },
  "kernelspec": {
   "display_name": "Python 3 (ipykernel)",
   "language": "python",
   "name": "python3"
  },
  "language_info": {
   "codemirror_mode": {
    "name": "ipython",
    "version": 3
   },
   "file_extension": ".py",
   "mimetype": "text/x-python",
   "name": "python",
   "nbconvert_exporter": "python",
   "pygments_lexer": "ipython3",
   "version": "3.9.7"
  }
 },
 "nbformat": 4,
 "nbformat_minor": 1
}
